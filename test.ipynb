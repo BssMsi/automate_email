{
 "cells": [
  {
   "cell_type": "code",
   "execution_count": 1,
   "metadata": {},
   "outputs": [],
   "source": [
    "import os\n",
    "import smtplib\n",
    "from email.mime.multipart import MIMEMultipart\n",
    "from email.mime.text import MIMEText\n",
    "from email.mime.base import MIMEBase\n",
    "from email import encoders\n",
    "import time\n",
    "from dotenv import load_dotenv\n",
    "load_dotenv()"
   ]
  },
  {
   "cell_type": "code",
   "execution_count": 33,
   "metadata": {},
   "outputs": [],
   "source": [
    "def send_email(to_email, body_plain, body_html):\n",
    "  msg = MIMEMultipart('alternative')\n",
    "  msg['From'] = os.environ.get('SMTP_FROM')\n",
    "  msg['To'] = to_email\n",
    "  if os.environ.get('SMTP_CC'):\n",
    "    msg['Cc'] = os.environ.get('SMTP_CC')\n",
    "  msg['Subject'] = \"Test with Attachment\"\n",
    "  msg.attach(MIMEText(body_plain, 'plain'))\n",
    "  msg.attach(MIMEText(body_html, 'html'))\n",
    "\n",
    "  # Add attachment\n",
    "  filename = \"1.jpg\"\n",
    "  attachment = open(f\"./attachments/{filename}\", \"rb\")\n",
    "\n",
    "  part = MIMEBase('application', 'octet-stream')\n",
    "  part.set_payload((attachment).read())\n",
    "  encoders.encode_base64(part)\n",
    "  part.add_header('Content-Disposition', \"attachment; filename= %s\" % filename)\n",
    "\n",
    "  msg.attach(part)\n",
    "\n",
    "  try:\n",
    "    smtp_server = os.environ.get('SMTP_SERVER')\n",
    "    smtp_port = os.environ.get('SMTP_PORT')\n",
    "    smtp_user = os.environ.get('SMTP_FROM')\n",
    "    smtp_password = os.environ.get('SMTP_PASSWORD')\n",
    "\n",
    "    server = smtplib.SMTP(smtp_server, smtp_port)\n",
    "    server.starttls()\n",
    "    server.login(smtp_user, smtp_password)\n",
    "    server.sendmail(os.environ.get('SMTP_FROM'), to_email.split(\",\")+os.environ.get('SMTP_CC', \"\").split(\",\"), msg.as_string())\n",
    "    # server.sendmail(msg.as_string())\n",
    "    server.quit()\n",
    "\n",
    "    print(f\"Email sent successfully to {to_email}, cced {cc_email}\")\n",
    "  except Exception as e:\n",
    "    print(f\"Failed to send email to {to_email}. Error: {e}\")\n"
   ]
  },
  {
   "cell_type": "code",
   "execution_count": 34,
   "metadata": {},
   "outputs": [
    {
     "name": "stdout",
     "output_type": "stream",
     "text": [
      "Email sent successfully to {to_email}, cced {cc_email}\n"
     ]
    }
   ],
   "source": [
    "body_plain = '''Hi, this is plain version'''\n",
    "body_html = '''<html>\n",
    "<body>\n",
    "<h1>Hi</h1>\n",
    "<p>From Python</p>\n",
    "<p>This is the HTML Version</p>\n",
    "<p>Only HTML version should be visible in this email unlike the previous one which showed both html and plain, this one has the plain as a fallback in case the HTML doesn't render</p>\n",
    "</body>\n",
    "</html>'''\n",
    "send_email(\"bharathsshroff@gmail.com\", \"temporaz5.11@gmail.com\", \"inspiringwanderer307@gmail.com\", body_plain, body_html)"
   ]
  },
  {
   "cell_type": "code",
   "execution_count": null,
   "metadata": {},
   "outputs": [],
   "source": []
  }
 ],
 "metadata": {
  "kernelspec": {
   "display_name": "Python 3",
   "language": "python",
   "name": "python3"
  },
  "language_info": {
   "codemirror_mode": {
    "name": "ipython",
    "version": 3
   },
   "file_extension": ".py",
   "mimetype": "text/x-python",
   "name": "python",
   "nbconvert_exporter": "python",
   "pygments_lexer": "ipython3",
   "version": "3.12.5"
  }
 },
 "nbformat": 4,
 "nbformat_minor": 2
}
